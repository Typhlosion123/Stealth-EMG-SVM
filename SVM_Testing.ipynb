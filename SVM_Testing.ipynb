{
 "cells": [
  {
   "cell_type": "code",
   "execution_count": 1,
   "id": "6d28fe73",
   "metadata": {},
   "outputs": [],
   "source": [
    "import pandas as pd\n",
    "import tensorflow as tf\n",
    "from tensorflow import keras\n",
    "from keras import layers\n",
    "from keras import regularizers\n",
    "import matplotlib.pyplot as plt\n",
    "import numpy as np"
   ]
  },
  {
   "cell_type": "code",
   "execution_count": 2,
   "id": "f191b110",
   "metadata": {},
   "outputs": [],
   "source": [
    "#---CONFIG FRAME---#\n",
    "train_file = [\n",
    "    \"parsed_emg/subject_1/trial_1(right).csv\",\n",
    "    \"parsed_emg/subject_1/trial_3(right).csv\",\n",
    "    \"parsed_emg/subject_1/trial_5(right).csv\",\n",
    "    \"parsed_emg/subject_1/trial_7(right).csv\",\n",
    "    \"parsed_emg/subject_1/trial_9(right).csv\",\n",
    "]\n",
    "\n",
    "test_file = \"parsed_emg/subject_1/trial_11(right).csv\"\n",
    "\n",
    "label_col = 5\n",
    "batch_size = 32\n",
    "learning_rate = 0.01\n",
    "epochs = 1\n",
    "num_classes = 1\n",
    "\n",
    "#---Data Loader---#\n",
    "def load_csv(path):\n",
    "    df = pd.read_csv(path, skiprows=1)\n",
    "    df = df.drop(columns=df.columns[0], axis=1)\n",
    "    X = df.iloc[:, 1].values.astype(\"float32\").reshape(-1, 1)\n",
    "    y = df.iloc[:, label_col].values.astype(\"int32\")\n",
    "    return X, y\n",
    "\n",
    "#---Epoch Plotter---#\n",
    "\n"
   ]
  },
  {
   "cell_type": "code",
   "execution_count": 3,
   "id": "58d42d8d",
   "metadata": {},
   "outputs": [
    {
     "name": "stdout",
     "output_type": "stream",
     "text": [
      "\u001b[1m61121/61121\u001b[0m \u001b[32m━━━━━━━━━━━━━━━━━━━━\u001b[0m\u001b[37m\u001b[0m \u001b[1m91s\u001b[0m 1ms/step - accuracy: 0.8998 - loss: 0.0537\n",
      "\u001b[1m15900/15900\u001b[0m \u001b[32m━━━━━━━━━━━━━━━━━━━━\u001b[0m\u001b[37m\u001b[0m \u001b[1m21s\u001b[0m 1ms/step - accuracy: 0.0883 - loss: 1.8519\n",
      "\n",
      "Test loss: 1.2018 — Test accuracy: 0.2517\n"
     ]
    }
   ],
   "source": [
    "training_datasets = []\n",
    "for f in train_file:\n",
    "    X_tr, y_tr = load_csv(f)\n",
    "    ds = tf.data.Dataset.from_tensor_slices((X_tr, y_tr))\n",
    "    training_datasets.append(ds)\n",
    "\n",
    "training_ds = training_datasets[0]\n",
    "for ds in training_datasets[1:]:\n",
    "    training_ds = training_ds.concatenate(ds)\n",
    "training_ds = training_ds.shuffle(buffer_size=5000).batch(batch_size).prefetch(1)\n",
    "\n",
    "X_test, y_test = load_csv(test_file)\n",
    "\n",
    "model = tf.keras.Sequential([\n",
    "    layers.Input(shape=(1,)),\n",
    "    layers.Dense(\n",
    "        num_classes,\n",
    "        activation=None,\n",
    "        kernel_regularizer=regularizers.l2(1e-4) \n",
    "    ),\n",
    "])\n",
    "\n",
    "model.compile(\n",
    "    optimizer=tf.keras.optimizers.Adam(learning_rate=learning_rate),\n",
    "    loss=\"categorical_hinge\",\n",
    "    metrics=[\"accuracy\"],\n",
    ")\n",
    "\n",
    "model.fit(training_ds, epochs=epochs)\n",
    "\n",
    "# Evaluate performance\n",
    "test_loss, test_acc = model.evaluate(X_test, y_test, batch_size=batch_size)\n",
    "print(f\"\\nTest loss: {test_loss:.4f} — Test accuracy: {test_acc:.4f}\")\n",
    "\n"
   ]
  },
  {
   "cell_type": "code",
   "execution_count": 17,
   "id": "8286b19a",
   "metadata": {},
   "outputs": [
    {
     "name": "stdout",
     "output_type": "stream",
     "text": [
      "\u001b[1m1/1\u001b[0m \u001b[32m━━━━━━━━━━━━━━━━━━━━\u001b[0m\u001b[37m\u001b[0m \u001b[1m0s\u001b[0m 48ms/step\n",
      "Model Prediction: [[1.042276]]\n"
     ]
    }
   ],
   "source": [
    "# Input a number (e.g., 0.09123)\n",
    "input_number = 1203123123123.123\n",
    "\n",
    "# Reshape to match model input shape (e.g., (batch_size, 1))\n",
    "input_tensor = np.array([[input_number]])  # Shape (1, 1)\n",
    "\n",
    "# Get prediction\n",
    "prediction = model.predict(input_tensor)\n",
    "\n",
    "print(\"Model Prediction:\", prediction)"
   ]
  }
 ],
 "metadata": {
  "kernelspec": {
   "display_name": ".venv",
   "language": "python",
   "name": "python3"
  },
  "language_info": {
   "codemirror_mode": {
    "name": "ipython",
    "version": 3
   },
   "file_extension": ".py",
   "mimetype": "text/x-python",
   "name": "python",
   "nbconvert_exporter": "python",
   "pygments_lexer": "ipython3",
   "version": "3.11.9"
  }
 },
 "nbformat": 4,
 "nbformat_minor": 5
}
