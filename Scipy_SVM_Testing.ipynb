{
 "cells": [
  {
   "cell_type": "code",
   "execution_count": 3,
   "id": "7e4ac510",
   "metadata": {},
   "outputs": [],
   "source": [
    "import pandas as pd\n",
    "import numpy as np\n",
    "from sklearn.svm import LinearSVC\n",
    "from sklearn.metrics import classification_report\n",
    "from sklearn.utils import shuffle\n",
    "from tqdm import tqdm"
   ]
  },
  {
   "cell_type": "code",
   "execution_count": 2,
   "id": "0cbc4b52",
   "metadata": {},
   "outputs": [],
   "source": [
    "# --- CONFIG --- #\n",
    "train_files = [\n",
    "    \"parsed_emg/subject_1/trial_11(right).csv\",\n",
    "    \"parsed_emg/subject_1/trial_3(right).csv\",\n",
    "    \"parsed_emg/subject_1/trial_5(right).csv\",\n",
    "    \"parsed_emg/subject_1/trial_7(right).csv\",\n",
    "    \"parsed_emg/subject_1/trial_9(right).csv\",\n",
    "]\n",
    "\n",
    "test_file = \"parsed_emg/subject_1/trial_1(right).csv\"\n",
    "label_col = 5\n",
    "\n",
    "# --- Data Loader --- #\n",
    "def load_csv(path):\n",
    "    df = pd.read_csv(path, skiprows=1)\n",
    "    df = df.drop(columns=df.columns[0], axis=1)\n",
    "    X = df.iloc[:, 1].values.astype(\"float64\").reshape(-1, 1)  # Make it 2D\n",
    "    y = df.iloc[:, label_col].values.astype(\"int32\")\n",
    "    return X, y"
   ]
  },
  {
   "cell_type": "code",
   "execution_count": 6,
   "id": "8de29076",
   "metadata": {},
   "outputs": [
    {
     "name": "stderr",
     "output_type": "stream",
     "text": [
      "Loading training data: 100%|██████████| 5/5 [00:03<00:00,  1.52it/s]\n"
     ]
    },
    {
     "name": "stdout",
     "output_type": "stream",
     "text": [
      "Training SVM...\n",
      "Training complete.\n",
      "\n",
      "Classification Report:\n",
      "              precision    recall  f1-score   support\n",
      "\n",
      "           0       0.00      0.00      0.00     61829\n",
      "           1       0.26      1.00      0.41     30726\n",
      "           2       0.00      0.00      0.00     27894\n",
      "\n",
      "    accuracy                           0.26    120449\n",
      "   macro avg       0.09      0.33      0.14    120449\n",
      "weighted avg       0.07      0.26      0.10    120449\n",
      "\n"
     ]
    },
    {
     "name": "stderr",
     "output_type": "stream",
     "text": [
      "c:\\Users\\Admin\\VS Code (Python)\\iMADE Stealth\\.venv\\Lib\\site-packages\\sklearn\\metrics\\_classification.py:1565: UndefinedMetricWarning: Precision is ill-defined and being set to 0.0 in labels with no predicted samples. Use `zero_division` parameter to control this behavior.\n",
      "  _warn_prf(average, modifier, f\"{metric.capitalize()} is\", len(result))\n",
      "c:\\Users\\Admin\\VS Code (Python)\\iMADE Stealth\\.venv\\Lib\\site-packages\\sklearn\\metrics\\_classification.py:1565: UndefinedMetricWarning: Precision is ill-defined and being set to 0.0 in labels with no predicted samples. Use `zero_division` parameter to control this behavior.\n",
      "  _warn_prf(average, modifier, f\"{metric.capitalize()} is\", len(result))\n",
      "c:\\Users\\Admin\\VS Code (Python)\\iMADE Stealth\\.venv\\Lib\\site-packages\\sklearn\\metrics\\_classification.py:1565: UndefinedMetricWarning: Precision is ill-defined and being set to 0.0 in labels with no predicted samples. Use `zero_division` parameter to control this behavior.\n",
      "  _warn_prf(average, modifier, f\"{metric.capitalize()} is\", len(result))\n"
     ]
    }
   ],
   "source": [
    "X_train_list, y_train_list = [], []\n",
    "for path in tqdm(train_files, desc=\"Loading training data\"):\n",
    "    X, y = load_csv(path)\n",
    "    X_train_list.append(X)\n",
    "    y_train_list.append(y)\n",
    "\n",
    "X_train = np.vstack(X_train_list)\n",
    "y_train = np.hstack(y_train_list)\n",
    "\n",
    "# Shuffle training data\n",
    "X_train, y_train = shuffle(X_train, y_train, random_state=42)\n",
    "\n",
    "# --- Train SVM --- #\n",
    "print(\"Training SVM...\")\n",
    "model = LinearSVC(max_iter=1000)  # You can tune the kernel\n",
    "model.fit(X_train, y_train)\n",
    "print(\"Training complete.\")\n",
    "\n",
    "# --- Test --- #\n",
    "X_test, y_test = load_csv(test_file)\n",
    "y_pred = model.predict(X_test)\n",
    "\n",
    "# --- Results --- #\n",
    "print(\"\\nClassification Report:\")\n",
    "print(classification_report(y_test, y_pred))"
   ]
  }
 ],
 "metadata": {
  "kernelspec": {
   "display_name": ".venv",
   "language": "python",
   "name": "python3"
  },
  "language_info": {
   "codemirror_mode": {
    "name": "ipython",
    "version": 3
   },
   "file_extension": ".py",
   "mimetype": "text/x-python",
   "name": "python",
   "nbconvert_exporter": "python",
   "pygments_lexer": "ipython3",
   "version": "3.11.9"
  }
 },
 "nbformat": 4,
 "nbformat_minor": 5
}
