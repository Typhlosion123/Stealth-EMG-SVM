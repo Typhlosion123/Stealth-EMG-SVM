{
 "cells": [
  {
   "cell_type": "code",
   "execution_count": 1,
   "id": "7e4ac510",
   "metadata": {},
   "outputs": [],
   "source": [
    "# from sklearnex import patch_sklearn\n",
    "# patch_sklearn()  # Activate Intel optimizations for scikit-learn\n",
    "from sklearn.svm import SVC\n",
    "from sklearn.utils import shuffle\n",
    "from sklearn.metrics import classification_report\n",
    "import numpy as np\n",
    "from tqdm import tqdm\n",
    "import pandas as pd"
   ]
  },
  {
   "cell_type": "code",
   "execution_count": 2,
   "id": "0cbc4b52",
   "metadata": {},
   "outputs": [],
   "source": [
    "# --- CONFIG --- #\n",
    "train_files = [\n",
    "    \"parsed_emg/subject_1/trial_11(right).csv\",\n",
    "    # \"parsed_emg/subject_1/trial_3(right).csv\",\n",
    "    # \"parsed_emg/subject_1/trial_5(right).csv\",\n",
    "    # \"parsed_emg/subject_1/trial_7(right).csv\",\n",
    "    # \"parsed_emg/subject_1/trial_9(right).csv\",\n",
    "]\n",
    "\n",
    "test_file = \"parsed_emg/subject_1/trial_1(right).csv\"\n",
    "label_col = 5\n",
    "\n",
    "# --- Data Loader --- #\n",
    "def load_csv(path):\n",
    "    df = pd.read_csv(path, skiprows=1)\n",
    "    df = df.drop(columns=df.columns[0], axis=1)\n",
    "    X = df.iloc[:, 1].values.astype(\"float64\").reshape(-1, 1)  # Make it 2D\n",
    "    y = df.iloc[:, label_col].values.astype(\"int32\")\n",
    "    return X, y"
   ]
  },
  {
   "cell_type": "code",
   "execution_count": null,
   "id": "8de29076",
   "metadata": {},
   "outputs": [
    {
     "name": "stderr",
     "output_type": "stream",
     "text": [
      "Loading training data: 100%|██████████| 1/1 [00:00<00:00,  3.84it/s]\n"
     ]
    },
    {
     "name": "stdout",
     "output_type": "stream",
     "text": [
      "shuffling data\n",
      "Training SVM with Intel acceleration...\n",
      "[LibSVM]"
     ]
    }
   ],
   "source": [
    "# --- Data Loading (unchanged) --- #\n",
    "X_train_list, y_train_list = [], []\n",
    "for path in tqdm(train_files, desc=\"Loading training data\"):\n",
    "    X, y = load_csv(path)\n",
    "    X_train_list.append(X)\n",
    "    y_train_list.append(y)\n",
    "\n",
    "X_train = np.vstack(X_train_list)\n",
    "y_train = np.hstack(y_train_list)\n",
    "\n",
    "\n",
    "print(\"shuffling data\")\n",
    "# Shuffle training data\n",
    "X_train, y_train = shuffle(X_train, y_train, random_state=42)\n",
    "\n",
    "# --- Train SVM (Intel-optimized) --- #\n",
    "print(\"Training SVM with Intel acceleration...\")\n",
    "model = SVC(\n",
    "    kernel='rbf',\n",
    "    decision_function_shape='ovr',\n",
    "    verbose=True,\n",
    "    # Optional: Set cache_size to use more RAM (faster for large datasets)\n",
    "    cache_size=8000  # MB, adjust based on your system RAM\n",
    ")\n",
    "model.fit(X_train, y_train)\n",
    "print(\"Training complete.\")\n",
    "\n",
    "# --- Test --- #\n",
    "X_test, y_test = load_csv(test_file)\n",
    "y_pred = model.predict(X_test)\n",
    "\n",
    "# --- Results --- #\n",
    "print(\"\\nClassification Report:\")\n",
    "print(classification_report(y_test, y_pred))"
   ]
  }
 ],
 "metadata": {
  "kernelspec": {
   "display_name": ".venv",
   "language": "python",
   "name": "python3"
  },
  "language_info": {
   "codemirror_mode": {
    "name": "ipython",
    "version": 3
   },
   "file_extension": ".py",
   "mimetype": "text/x-python",
   "name": "python",
   "nbconvert_exporter": "python",
   "pygments_lexer": "ipython3",
   "version": "3.11.9"
  }
 },
 "nbformat": 4,
 "nbformat_minor": 5
}
